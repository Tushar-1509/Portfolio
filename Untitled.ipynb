{
 "cells": [
  {
   "cell_type": "code",
   "execution_count": 41,
   "id": "528e93b7-2b9e-4477-8563-76bd0ff59b1b",
   "metadata": {},
   "outputs": [
    {
     "name": "stdout",
     "output_type": "stream",
     "text": [
      "Top 10 Players of the Match in Finals:\n",
      "player_of_match\n",
      "YK Pathan      1\n",
      "A Kumble       1\n",
      "SK Raina       1\n",
      "M Vijay        1\n",
      "MS Bisla       1\n",
      "KA Pollard     1\n",
      "MK Pandey      1\n",
      "RG Sharma      1\n",
      "BCJ Cutting    1\n",
      "KH Pandya      1\n",
      "Name: count, dtype: int64\n",
      "winner\n",
      "Mumbai Indians                 144\n",
      "Chennai Super Kings            138\n",
      "Kolkata Knight Riders          131\n",
      "Royal Challengers Bangalore    116\n",
      "Rajasthan Royals               112\n",
      "Sunrisers Hyderabad             88\n",
      "Kings XI Punjab                 88\n",
      "Delhi Daredevils                67\n",
      "Delhi Capitals                  48\n",
      "Deccan Chargers                 29\n",
      "Gujarat Titans                  28\n",
      "Punjab Kings                    24\n",
      "Lucknow Super Giants            24\n",
      "Gujarat Lions                   13\n",
      "Pune Warriors                   12\n",
      "Rising Pune Supergiant          10\n",
      "Royal Challengers Bengaluru      7\n",
      "Kochi Tuskers Kerala             6\n",
      "Rising Pune Supergiants          5\n",
      "Name: count, dtype: int64\n"
     ]
    }
   ],
   "source": [
    "import pandas as pd \n",
    "import re\n",
    "data = pd.read_csv(\"matches.csv\") #read the file\n",
    "data = data.sort_values('target_runs',ascending=False) #sort target runs descendingly\n",
    "data = data.drop(['method','id',],axis=1) #drop the columns\n",
    "data = data['winner'].value_counts() #total matches won by each team\n",
    "#data = data['player_of_match'].value_counts().head(10) #top 10 player of the match awards\n",
    "#data = data.loc[data['result'].str.contains('no result',case=False,na=False)] #filter the matches without result\n",
    "#data = data.sort_values('result_margin',ascending=False) #win by highest margin\n",
    "#data = data.sort_values('target_overs',ascending=False)\n",
    "#data = data[data['winner'] == 'Kings XI Punjab'] #matches won by Punjab\n",
    "#data = data[data['city'] == 'Chandigarh'] #match played in chandigarh\n",
    "#data = data[data['match_type'] == 'Final'] #filter the final matches only\n",
    "#data = data['winner'].value_counts() #finals won by team\n",
    "finals_data = finals_data[finals_data['match_type'] == 'Final']\n",
    "final_mvp = finals_data['player_of_match'].value_counts().head(10)\n",
    "print(\"Top 10 Players of the Match in Finals:\")\n",
    "print(final_mvp)\n",
    "\n",
    "print(data)\n"
   ]
  },
  {
   "cell_type": "code",
   "execution_count": null,
   "id": "92b76323-4a1a-4409-9a45-9278d2037ac6",
   "metadata": {},
   "outputs": [],
   "source": []
  }
 ],
 "metadata": {
  "kernelspec": {
   "display_name": "Python 3 (ipykernel)",
   "language": "python",
   "name": "python3"
  },
  "language_info": {
   "codemirror_mode": {
    "name": "ipython",
    "version": 3
   },
   "file_extension": ".py",
   "mimetype": "text/x-python",
   "name": "python",
   "nbconvert_exporter": "python",
   "pygments_lexer": "ipython3",
   "version": "3.13.2"
  }
 },
 "nbformat": 4,
 "nbformat_minor": 5
}
